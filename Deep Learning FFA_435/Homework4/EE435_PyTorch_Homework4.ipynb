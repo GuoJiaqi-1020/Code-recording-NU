{
  "nbformat": 4,
  "nbformat_minor": 0,
  "metadata": {
    "kernelspec": {
      "display_name": "Python 3",
      "language": "python",
      "name": "python3"
    },
    "language_info": {
      "codemirror_mode": {
        "name": "ipython",
        "version": 3
      },
      "file_extension": ".py",
      "mimetype": "text/x-python",
      "name": "python",
      "nbconvert_exporter": "python",
      "pygments_lexer": "ipython3",
      "version": "3.8.5"
    },
    "colab": {
      "name": "EE435_PyTorch_Homework4",
      "provenance": [],
      "collapsed_sections": []
    },
    "accelerator": "GPU"
  },
  "cells": [
    {
      "cell_type": "markdown",
      "metadata": {
        "id": "tOJS4unEuwiJ"
      },
      "source": [
        "# Coding CNNs from Scratch with Pytorch"
      ]
    },
    {
      "cell_type": "markdown",
      "metadata": {
        "id": "iAglL7KZu3ge"
      },
      "source": [
        "In this assignment you will code a famous CNN architecture AlexNet (https://papers.nips.cc/paper/2012/hash/c399862d3b9d6b76c8436e924a68c45b-Abstract.html) to classify images from the CIFAR10 dataset (https://www.cs.toronto.edu/~kriz/cifar.html), which consists of 10 classes of natural images such as vehicles or animals. AlexNet is a landmark architecture because it was one of the first extremely deep CNNs trained on GPUs, and achieved state-of-the-art performance in the ImageNet challenge in 2012. \n"
      ]
    },
    {
      "cell_type": "markdown",
      "metadata": {
        "id": "nv77OEtlxuP8"
      },
      "source": [
        "A lot of code will already be written to familiarize yourself with PyTorch, but you will have to fill in parts that will apply your knowledge of CNNs. Additionally, there are some numbered questions that you must answer either in a separate document, or in this notebook. Some questions may require you to do a little research. To type in the notebook, you can insert a text cell. "
      ]
    },
    {
      "cell_type": "markdown",
      "metadata": {
        "id": "dr5aNOagwwm5"
      },
      "source": [
        "Let's start by installing PyTorch and the torchvision package below. Due to the size of the network, you will have to run on a GPU. So, click on the Runtime dropdown, then Change Runtime Type, then GPU for the hardware accelerator. "
      ]
    },
    {
      "cell_type": "code",
      "metadata": {
        "id": "HXnfRg4IulGd"
      },
      "source": [
        "!pip install pytorch\n",
        "!pip install torchvision"
      ],
      "execution_count": null,
      "outputs": []
    },
    {
      "cell_type": "code",
      "metadata": {
        "id": "VtC0KJcdufBE",
        "colab": {
          "base_uri": "https://localhost:8080/"
        },
        "outputId": "51a1f321-3db4-41fa-e948-f781f1b58b4f"
      },
      "source": [
        "import torch\n",
        "import torch.nn as nn\n",
        "import matplotlib.pyplot as plt\n",
        "\n",
        "\n",
        "device = torch.device('cuda')  \n",
        "print(device)"
      ],
      "execution_count": null,
      "outputs": [
        {
          "output_type": "stream",
          "name": "stdout",
          "text": [
            "cuda\n"
          ]
        }
      ]
    },
    {
      "cell_type": "markdown",
      "metadata": {
        "id": "5DML-S0AX-_o"
      },
      "source": [
        "### 1. In the following cell, we are employing something called \"data augmentation\" with random horizontal and vertical flips. So when training data is fed into the network, it is ranadomly transformed. What are advantages of this?\n",
        "\n",
        "\n",
        "> Sol: **Data augmentation** is an effective method to increase data scale and reduce model overfitting.\n",
        "\n",
        "\n",
        "\n",
        "\n",
        "\n",
        "\n",
        "### 2. We normalize with the line transforms.Normalize((0.5,), (0.5,)). What are the benefits of normalizing data? \n",
        ">Sol: `Normalize()` function is used to transform data into standard Gaussian distribution, which can accelerate the convergence of the model.  \n",
        "\n"
      ]
    },
    {
      "cell_type": "code",
      "metadata": {
        "id": "eruiC4sAufBL"
      },
      "source": [
        "import torchvision\n",
        "import torchvision.transforms as transforms\n",
        "from torch.utils.data import random_split\n",
        "from math import ceil\n",
        "\n",
        "BATCH_SIZE = 100\n",
        "\n",
        "transform = transforms.Compose(\n",
        "    [transforms.ToTensor(),\n",
        "     transforms.RandomHorizontalFlip(p=0.5), \n",
        "     transforms.RandomVerticalFlip(p=0.5),\n",
        "     transforms.Normalize((0.5,), (0.5,))])\n",
        "\n",
        "trainset = torchvision.datasets.CIFAR10(root='./data', train=True, \n",
        "                                        download=True, transform=transform)\n",
        "\n",
        "testset = torchvision.datasets.CIFAR10(root='./data', train=False, \n",
        "                                       download=True, transform=transform)\n",
        "\n",
        "\n",
        "torch.manual_seed(43)\n",
        "val_size = 10000\n",
        "train_size = len(trainset) - val_size\n",
        "\n",
        "train_ds, val_ds = random_split(trainset, [train_size, val_size])\n",
        "print(len(train_ds), len(val_ds))\n",
        "\n",
        "classes = ('plane', 'car', 'bird', 'cat',\n",
        "           'deer', 'dog', 'frog', 'horse', 'ship', 'truck')\n",
        "\n",
        "\n",
        "num_steps =  ceil(len(train_ds) / BATCH_SIZE)\n",
        "num_steps"
      ],
      "execution_count": null,
      "outputs": []
    },
    {
      "cell_type": "code",
      "metadata": {
        "id": "NLzuKuJxufBM"
      },
      "source": [
        "train_loader = torch.utils.data.DataLoader(train_ds, BATCH_SIZE, shuffle=True, drop_last = True)\n",
        "val_loader = torch.utils.data.DataLoader(val_ds, BATCH_SIZE)\n",
        "test_loader = torch.utils.data.DataLoader(testset, BATCH_SIZE)"
      ],
      "execution_count": null,
      "outputs": []
    },
    {
      "cell_type": "markdown",
      "metadata": {
        "id": "7rT3aDd7aVLm"
      },
      "source": [
        "You can insert an integer  into the code trainset[#insert integer] to visualize images from the training set. Some of the images might look weird because they have been randomly flipped according to our data augmentation scheme. "
      ]
    },
    {
      "cell_type": "code",
      "metadata": {
        "colab": {
          "base_uri": "https://localhost:8080/",
          "height": 302
        },
        "id": "wV-W2b6eZaoG",
        "outputId": "39ec661e-b832-4fd5-dd94-067bb71f3a7f"
      },
      "source": [
        "img, label = trainset[1]\n",
        "plt.imshow((img.permute((1, 2, 0))+1)/2)\n",
        "print('Label (numeric):', label)\n",
        "print('Label (textual):', classes[label])"
      ],
      "execution_count": null,
      "outputs": [
        {
          "output_type": "stream",
          "name": "stdout",
          "text": [
            "Label (numeric): 9\n",
            "Label (textual): truck\n"
          ]
        },
        {
          "output_type": "display_data",
          "data": {
            "image/png": "[encoded data removed]",
            "text/plain": [
              "<Figure size 432x288 with 1 Axes>"
            ]
          },
          "metadata": {
            "needs_background": "light"
          }
        }
      ]
    },
    {
      "cell_type": "code",
      "source": [
        "print(len(classes))"
      ],
      "metadata": {
        "colab": {
          "base_uri": "https://localhost:8080/"
        },
        "id": "LbbeptikUBPR",
        "outputId": "e333cd00-e584-496e-d0d9-26aaf99c66c4"
      },
      "execution_count": null,
      "outputs": [
        {
          "output_type": "stream",
          "name": "stdout",
          "text": [
            "10\n"
          ]
        }
      ]
    },
    {
      "cell_type": "markdown",
      "metadata": {
        "id": "wVLQM7ODamEm"
      },
      "source": [
        "Now comes the fun part. You will have to put in the correct parameters into different torch.nn functions in order to convolve and downsample the image into the correct dimensionality for classification. Think of it as a puzzle. You will insert the parameters where there is a comment #TODO. "
      ]
    },
    {
      "cell_type": "code",
      "metadata": {
        "id": "ohY_5zoBufBN"
      },
      "source": [
        "class Discriminator(torch.nn.Module):\n",
        "\n",
        "    def __init__(self):\n",
        "        super(Discriminator, self).__init__()\n",
        "        self.features = nn.Sequential(\n",
        "            nn.Conv2d(3, 64, kernel_size=3, stride=2, padding=1),\n",
        "            nn.ReLU(inplace=True),\n",
        "            nn.MaxPool2d(kernel_size=2),\n",
        "            nn.Conv2d(64, 192, kernel_size=3, padding=1),\n",
        "            nn.ReLU(inplace=True),\n",
        "            nn.MaxPool2d(kernel_size=2),\n",
        "            nn.Conv2d(192, 384,kernel_size=3, padding=1),\n",
        "            nn.ReLU(inplace=True),\n",
        "            nn.Conv2d(384, 256, kernel_size=3, padding=1),\n",
        "            nn.ReLU(inplace=True),\n",
        "            nn.Conv2d(256, 256, kernel_size=3, padding=1),\n",
        "            nn.ReLU(inplace=True),\n",
        "            nn.MaxPool2d(kernel_size=3, stride=2),\n",
        "        )\n",
        "        \n",
        "        self.avgpool = nn.AdaptiveAvgPool2d((6, 6))\n",
        "        #Fully connected layers\n",
        "        self.classifier = nn.Sequential(\n",
        "            nn.Dropout(),\n",
        "            nn.Linear(256 * 6 * 6, 4096),\n",
        "            nn.ReLU(inplace=True),\n",
        "            nn.Dropout(),\n",
        "            nn.Linear(4096, 4096),\n",
        "            nn.ReLU(inplace=True),\n",
        "            nn.Linear(4096, num_classes),\n",
        "        )\n",
        "\n",
        "\n",
        "    def forward(self, x):\n",
        "        x = self.features(x)\n",
        "        x = self.avgpool(x)\n",
        "        x = x.view(x.size(0), 256 * 6 * 6)\n",
        "        #we must flatten our feature maps before feeding into fully connected layers\n",
        "        # x = x.contiguous().view(x.size(0), 256 * 6 * 6)\n",
        "        x = self.classifier(x)\n",
        "        return x"
      ],
      "execution_count": null,
      "outputs": []
    },
    {
      "cell_type": "markdown",
      "metadata": {
        "id": "Bw2ZfQfAeZum"
      },
      "source": [
        "Below we are initializing our model with a weight scheme."
      ]
    },
    {
      "cell_type": "code",
      "metadata": {
        "id": "AlUFRnhZufBN",
        "colab": {
          "base_uri": "https://localhost:8080/"
        },
        "outputId": "9fe74ac9-91fc-4512-b721-cc2a7f912859"
      },
      "source": [
        "net = Discriminator()\n",
        "\n",
        "def weights_init(m):\n",
        "\n",
        "    classname = m.__class__.__name__\n",
        "\n",
        "    if classname.find('Conv') != -1:\n",
        "        torch.nn.init.normal_(m.weight.data, 0.0, 0.02)\n",
        "\n",
        "    elif classname.find('BatchNorm') != -1:\n",
        "        torch.nn.init.normal_(m.weight.data, 1.0, 0.02)\n",
        "        torch.nn.init.constant_(m.bias.data, 0)\n",
        "\n",
        "\n",
        "# Initialize Models\n",
        "net = net.to(device)\n",
        "net.apply(weights_init)"
      ],
      "execution_count": null,
      "outputs": [
        {
          "output_type": "execute_result",
          "data": {
            "text/plain": [
              "Discriminator(\n",
              "  (features): Sequential(\n",
              "    (0): Conv2d(3, 64, kernel_size=(3, 3), stride=(2, 2), padding=(1, 1))\n",
              "    (1): ReLU(inplace=True)\n",
              "    (2): MaxPool2d(kernel_size=2, stride=2, padding=0, dilation=1, ceil_mode=False)\n",
              "    (3): Conv2d(64, 192, kernel_size=(3, 3), stride=(1, 1), padding=(1, 1))\n",
              "    (4): ReLU(inplace=True)\n",
              "    (5): MaxPool2d(kernel_size=2, stride=2, padding=0, dilation=1, ceil_mode=False)\n",
              "    (6): Conv2d(192, 384, kernel_size=(3, 3), stride=(1, 1), padding=(1, 1))\n",
              "    (7): ReLU(inplace=True)\n",
              "    (8): Conv2d(384, 256, kernel_size=(3, 3), stride=(1, 1), padding=(1, 1))\n",
              "    (9): ReLU(inplace=True)\n",
              "    (10): Conv2d(256, 256, kernel_size=(3, 3), stride=(1, 1), padding=(1, 1))\n",
              "    (11): ReLU(inplace=True)\n",
              "    (12): MaxPool2d(kernel_size=3, stride=2, padding=0, dilation=1, ceil_mode=False)\n",
              "  )\n",
              "  (avgpool): AdaptiveAvgPool2d(output_size=(6, 6))\n",
              "  (classifier): Sequential(\n",
              "    (0): Dropout(p=0.5, inplace=False)\n",
              "    (1): Linear(in_features=9216, out_features=4096, bias=True)\n",
              "    (2): ReLU(inplace=True)\n",
              "    (3): Dropout(p=0.5, inplace=False)\n",
              "    (4): Linear(in_features=4096, out_features=4096, bias=True)\n",
              "    (5): ReLU(inplace=True)\n",
              "    (6): Linear(in_features=4096, out_features=10, bias=True)\n",
              "  )\n",
              ")"
            ]
          },
          "metadata": {},
          "execution_count": 8
        }
      ]
    },
    {
      "cell_type": "markdown",
      "metadata": {
        "id": "tFBRnApFfZUr"
      },
      "source": [
        "# 3. Notice above in our network architecture, we have what are called \"Dropout\" layers. What is the point of these?\n",
        "\n",
        "\n",
        "\n",
        "> Sol: We can define the dropout as follow:\n",
        "> 1.   Firstly, some hidden neurons in the network are **randomly (temporarily) deleted**, and the input and output neurons remain unchanged even if the output of some neurons is 0\n",
        "> 2.   The input is then propagated forward through the modified network, and the resulting loss results are propagated back through the modified network.  After performing this process in a small group of training samples, the corresponding parameters **(W, b)** were updated in accordance with the random gradient descent method on the neurons that were not deleted.  \n",
        ">By introducing dropout layers into the neural network structure during training, **overfitting can be effectively avoided**  \n",
        "\n",
        "\n",
        "\n",
        "\n"
      ]
    },
    {
      "cell_type": "markdown",
      "metadata": {
        "id": "IqzRwTN-febi"
      },
      "source": [
        "Defining our cost/loss function, which is cross-entropy loss. We also define our optimizer with hyperparameters: learning rate and betas. "
      ]
    },
    {
      "cell_type": "code",
      "metadata": {
        "id": "sNvPJc_PufBN"
      },
      "source": [
        "import torch.optim as optim\n",
        "\n",
        "criterion = torch.nn.CrossEntropyLoss()\n",
        "optimizer = torch.optim.Adam(\n",
        "    net.parameters(),\n",
        "    lr=0.0002,\n",
        "    betas = (0.5, 0.999)\n",
        ")"
      ],
      "execution_count": null,
      "outputs": []
    },
    {
      "cell_type": "markdown",
      "metadata": {
        "id": "JR6xLm7KiR3p"
      },
      "source": [
        "Below we actually train our network. Run for just 10 epochs. It takes some time. Wherever there is the comment #TODO, you must insert code."
      ]
    },
    {
      "cell_type": "code",
      "metadata": {
        "id": "2VwEjNs3ufBO",
        "colab": {
          "base_uri": "https://localhost:8080/"
        },
        "outputId": "9351a63a-a2e7-4ae9-dd8f-5f5bca81e97a"
      },
      "source": [
        "for epoch in range(10):  # loop over the dataset multiple times\n",
        "\n",
        "    running_loss = 0.0\n",
        "    for i, data in enumerate(train_loader, 0):\n",
        "        # get the inputs; data is a list of [inputs, labels]\n",
        "        inputs, labels = data\n",
        "        # zero the parameter gradients\n",
        "        optimizer.zero_grad()\n",
        "        # forward + backward + optimize\n",
        "        outputs = net(inputs.to(device))#TODO     \n",
        "        #pass input data into network to get outputs\n",
        "        loss = criterion(outputs, labels.to(device))\n",
        "        loss.backward()  #calculate gradients\n",
        "        optimizer.step() #take gradient descent step      \n",
        "        running_loss += loss.item()\n",
        "            \n",
        "    print(\"E:{}, Train Loss:{}\".format(\n",
        "                epoch+1,\n",
        "                running_loss / num_steps\n",
        "            )\n",
        "        )\n",
        "        \n",
        "        \n",
        "        \n",
        "    #validation\n",
        "    correct = 0\n",
        "    total = 0\n",
        "    val_loss = 0.0\n",
        "    with torch.no_grad():\n",
        "        for data in val_loader:\n",
        "            images, labels = data#TODO: load images and labels from validation loader\n",
        "            images = images.to(device)\n",
        "            labels = labels.to(device)\n",
        "            outputs = net(images)\n",
        "            _, predicted = torch.max(outputs.data, 1)\n",
        "            total += labels.size(0)\n",
        "            correct += (predicted == labels).sum().item()\n",
        "                \n",
        "            loss = criterion(outputs, labels)      #calculate validation loss\n",
        "            val_loss += loss.item()\n",
        "    val_loss /=num_steps\n",
        "    print('Accuracy of 10000 val images: {}'.format( correct / total))\n",
        "    print('Val Loss: {}'.format( val_loss))\n",
        "\n",
        "print('Finished Training')"
      ],
      "execution_count": null,
      "outputs": [
        {
          "output_type": "stream",
          "name": "stdout",
          "text": [
            "E:1, Train Loss:1.9191300451755524\n",
            "Accuracy of 10000 val images: 0.3577\n",
            "Val Loss: 0.4182637628912926\n",
            "E:2, Train Loss:1.5371633660793305\n",
            "Accuracy of 10000 val images: 0.4706\n",
            "Val Loss: 0.3578905487060547\n",
            "E:3, Train Loss:1.3599897265434264\n",
            "Accuracy of 10000 val images: 0.5225\n",
            "Val Loss: 0.3277172115445137\n",
            "E:4, Train Loss:1.2420964270830155\n",
            "Accuracy of 10000 val images: 0.5417\n",
            "Val Loss: 0.31233872085809705\n",
            "E:5, Train Loss:1.1474959242343903\n",
            "Accuracy of 10000 val images: 0.5636\n",
            "Val Loss: 0.30339749246835707\n",
            "E:6, Train Loss:1.0740292391180992\n",
            "Accuracy of 10000 val images: 0.5938\n",
            "Val Loss: 0.2819275915622711\n",
            "E:7, Train Loss:1.0067521919310094\n",
            "Accuracy of 10000 val images: 0.6081\n",
            "Val Loss: 0.2752533419430256\n",
            "E:8, Train Loss:0.9469500032067298\n",
            "Accuracy of 10000 val images: 0.6191\n",
            "Val Loss: 0.2691690950095654\n",
            "E:9, Train Loss:0.8973482114076614\n",
            "Accuracy of 10000 val images: 0.6428\n",
            "Val Loss: 0.25562571570277215\n",
            "E:10, Train Loss:0.8473449007421732\n",
            "Accuracy of 10000 val images: 0.6549\n",
            "Val Loss: 0.2500796839594841\n",
            "Finished Training\n"
          ]
        }
      ]
    },
    {
      "cell_type": "markdown",
      "source": [
        "#  "
      ],
      "metadata": {
        "id": "3PK0prX64u_J"
      }
    },
    {
      "cell_type": "markdown",
      "metadata": {
        "id": "9sKf8Lu-mGYd"
      },
      "source": [
        "## 4. If we train for more epochs, our accuracy/performance will increase. What happens if we train for too long though? What method can be employed to mitigate this?\n",
        "\n",
        ">Sol: If the number of training rounds is too many, the over-fitting phenomenon will occur, that is, the loss function of the model is small in the training data, and the prediction accuracy is high.  However, the loss function of the test data is relatively large and the prediction accuracy is low.\n",
        "\n",
        ">Methods to avoid over-fitting are concluded as follow:\n",
        ">  1. Reduce the size of the neural network\n",
        ">  2. Adding Dropout layers\n",
        ">  3. Regularization (L1, L2)\n",
        ">  4. Enlarge the dataset\n",
        "\n",
        "\n",
        "\n",
        "\n",
        "## 5. Try increasing learning rate and look at the metrics for training and validation data? What do you notice? Why do think this is happening?\n",
        "\n",
        ">Sol: When we gradually increase the learning rate, the **speed of model convergence** will be accelerated, but when the learning rate exceeds a certain value, the value of the loss will **fluctuate**. That is because the model cannot(unable) **converge to the global minimum** due to the large learning rate.\n"
      ]
    },
    {
      "cell_type": "markdown",
      "metadata": {
        "id": "Lz31Vm2XmM7p"
      },
      "source": [
        "We can see the performance on the testing set now. "
      ]
    },
    {
      "cell_type": "code",
      "metadata": {
        "id": "SNLMA4oIufBO",
        "colab": {
          "base_uri": "https://localhost:8080/"
        },
        "outputId": "9f4ccb25-0bdf-4d81-f267-91de040105f1"
      },
      "source": [
        "correct = 0\n",
        "total = 0\n",
        "with torch.no_grad():\n",
        "    for data in test_loader:\n",
        "        images, labels = data\n",
        "        images = images.to(device)\n",
        "        labels = labels.to(device)\n",
        "        outputs = net(images)\n",
        "        _, predicted = torch.max(outputs.data, 1)\n",
        "        total += labels.size(0)\n",
        "        correct += (predicted == labels).sum().item()\n",
        "\n",
        "print('Accuracy of 10000 test images: {}'.format( correct / total))"
      ],
      "execution_count": null,
      "outputs": [
        {
          "output_type": "stream",
          "name": "stdout",
          "text": [
            "Accuracy of 10000 test images: 0.661\n"
          ]
        }
      ]
    }
  ]
}