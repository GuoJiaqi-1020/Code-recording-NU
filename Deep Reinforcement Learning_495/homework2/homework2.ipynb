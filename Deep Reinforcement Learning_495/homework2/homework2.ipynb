{
 "cells": [
  {
   "cell_type": "markdown",
   "source": [
    "### A Newspaper Salesman Problem\n",
    "\n",
    "Let’s say you want to sell newspapers. At the beginning of each day $i$, you choose the number ni of newspapers to buy. After you buy them, you have $d_i$ customers. You buy the newspapers at price p and sell them at a price $p' > p$. Any  unsold newspapers at the end of the day can be recycled, in which case you receive $0.1 ∗ p$ per newspaper.\n"
   ],
   "metadata": {
    "collapsed": false,
    "pycharm": {
     "name": "#%% md\n"
    }
   }
  },
  {
   "cell_type": "markdown",
   "source": [
    "##### Part 1\n",
    "Write an expression for your profit $r(i)$ on day $i$, keeping in mind that the number of newspapers that are recycled is given by $max\\{0, n − d\\}$."
   ],
   "metadata": {
    "collapsed": false,
    "pycharm": {
     "name": "#%% md\n"
    }
   }
  },
  {
   "cell_type": "markdown",
   "source": [
    "##### Answer:\n",
    "$r(i) = p*(0.1*max\\{0,n_i - d_i\\}-n_i) + d_i * p'= p*0.1*max\\{0,n_i - d_i\\} + d_i * p' - p*n_i$"
   ],
   "metadata": {
    "collapsed": false,
    "pycharm": {
     "name": "#%% md\n"
    }
   }
  },
  {
   "cell_type": "markdown",
   "source": [
    "##### Part 2\n",
    "Assume there is a limit to the number of newspapers you can buy a day, which is fixed and given by K. What is the action space?"
   ],
   "metadata": {
    "collapsed": false,
    "pycharm": {
     "name": "#%% md\n"
    }
   }
  },
  {
   "cell_type": "markdown",
   "source": [
    "##### Answer:\n",
    "Buying N newspapers (N<K)"
   ],
   "metadata": {
    "collapsed": false,
    "pycharm": {
     "name": "#%% md\n"
    }
   }
  },
  {
   "cell_type": "markdown",
   "source": [
    "##### Part 3\n",
    "In this problem, let’s assume you start off with $0$ dollars, and can buy up to $K$ newspapers regardless if your balance is positive or negative. Write an equation for Bellman’s Equation. Let’s say your policy $\\pi$ is either to buy $10$ newspaper or $20$ newspapers, depending on your balance (i.e. your state $s$). Give an equation for Bellman’s Equation. Note that your action policy should be deterministic.\n"
   ],
   "metadata": {
    "collapsed": false,
    "pycharm": {
     "name": "#%% md\n"
    }
   }
  },
  {
   "cell_type": "markdown",
   "source": [
    "##### Answer:\n",
    "\n",
    "$v_\\pi(s)=\\sum_{a\\in A} \\pi(a \\mid s) \\sum_{s^{\\prime}, r} p\\left(s^{\\prime}, r \\mid s, a\\right)\\left[r+\\gamma v_{\\pi}\\left(s^{\\prime}\\right)\\right] =\\sum_{a\\in A} \\pi(a \\mid s)\\left[r+\\gamma v_{\\pi}\\left(s^{\\prime}\\right)\\right]$\n",
    "\n",
    "A = {buy 10 newspapers, buy 20 newspapers}\n",
    "\n",
    "States: $s = b(i)$ and $s' = b(i-1)$, where $b_i$ is your initial balance on day $i$"
   ],
   "metadata": {
    "collapsed": false,
    "pycharm": {
     "name": "#%% md\n"
    }
   }
  },
  {
   "cell_type": "markdown",
   "source": [
    "### Exploration Exploitation Tradeoff"
   ],
   "metadata": {
    "collapsed": false,
    "pycharm": {
     "name": "#%% md\n"
    }
   }
  },
  {
   "cell_type": "markdown",
   "source": [
    "##### Part 1\n",
    "In your own words, what is the exploration exploitation tradeoff?"
   ],
   "metadata": {
    "collapsed": false,
    "pycharm": {
     "name": "#%% md\n"
    }
   }
  },
  {
   "cell_type": "markdown",
   "source": [
    "##### Answer:\n",
    "When faced with a decision problem, exploration and exploitation are two possible behaviors, both of which have pros and cons.\n",
    "\n",
    "On the one hand, exploitation involves making hypothetically optimal decisions based on the data observed so far. This safe approach tries to avoid bad decisions as much as possible but also prevents from discovering potential better ones.\n",
    "\n",
    "Exploration, on the other hand, consists of not taking the decision that seems to be optimal, betting on the fact that observed data is not enough to truly determine the best choice. This more \"risky\" approach sometimes leads to bad decisions, but it can also discover better ones."
   ],
   "metadata": {
    "collapsed": false,
    "pycharm": {
     "name": "#%% md\n"
    }
   }
  },
  {
   "cell_type": "markdown",
   "source": [
    "##### Part 2\n",
    "In a dynamic programming problem, if the variance is high, is it better to explore or exploit? Does it depend on the amount of risk you are willing to take? What does risk mean to you in the context of dynamic programming problems? Please explain."
   ],
   "metadata": {
    "collapsed": false,
    "pycharm": {
     "name": "#%% md\n"
    }
   }
  },
  {
   "cell_type": "markdown",
   "source": [
    "##### Answer:\n",
    "A large variance indicates that numbers in the set are far from the mean and far from each other. I don't think there is a fixed answer when it comes to the choice of explore and exploit. It depends on your tolerance for risk. The higher variance means that if you choose exploration, you will have a chance to find some optimal point, and you may get worse ones."
   ],
   "metadata": {
    "collapsed": false,
    "pycharm": {
     "name": "#%% md\n"
    }
   }
  },
  {
   "cell_type": "markdown",
   "source": [
    "### Portfolio Investing\n",
    "Let’s say you start off with a balance of 100 dollars. There are two stocks you’d like to invest in, stock $s_1$ and stock $s_2$. At the beginning of each day, you can decide how much money $m_1$ to invest in stock $s_1$ and $m_2$ to invest in stock $s_2$. You must invest all of your money each day, but you can re-allocate at the end of each day. That is, on each day i, you have $m_1(i) + m_2(i) = b_i$, where $b_i$ is your initial balance on day $i$ (i.e. the state).\n"
   ],
   "metadata": {
    "collapsed": false,
    "pycharm": {
     "name": "#%% md\n"
    }
   }
  },
  {
   "cell_type": "markdown",
   "source": [
    "##### Part 1\n",
    "Suppose on day $i$, the return of stocks one and two, respectively, are given by $r_1(i)$ and $r_2(i)$. In this problem, by return, we actually mean a multiplier. So if you invest 10 dollars in stock $s_1$ on day $i$, you will end up with $10 ∗ r_1(i)$ at the end of the day. We assume that $r_1$ and $r_2$ are always between 0.9 and 1.1. What is the action space?"
   ],
   "metadata": {
    "collapsed": false,
    "pycharm": {
     "name": "#%% md\n"
    }
   }
  },
  {
   "cell_type": "markdown",
   "source": [
    "##### Answer:\n",
    "which stock to invest and how much money to invest"
   ],
   "metadata": {
    "collapsed": false,
    "pycharm": {
     "name": "#%% md\n"
    }
   }
  },
  {
   "cell_type": "markdown",
   "source": [
    "##### Part 2\n",
    "Suppose on day $i$, you invest $m_1(i)$ and $m_2(i)$ in each stock. Write an equation for your profit (not balance) at the end of the day $r(i)$."
   ],
   "metadata": {
    "collapsed": false,
    "pycharm": {
     "name": "#%% md\n"
    }
   }
  },
  {
   "cell_type": "markdown",
   "source": [
    "##### Answer:\n",
    "$r(i) = m_1(i)*(r_1(i)-1)+m_2(i)*(r_2(i)-1)$ , where $m_1(i) + m_2(i) = b_i$"
   ],
   "metadata": {
    "collapsed": false,
    "pycharm": {
     "name": "#%% md\n"
    }
   }
  },
  {
   "cell_type": "markdown",
   "source": [],
   "metadata": {
    "collapsed": false,
    "pycharm": {
     "name": "#%% md\n"
    }
   }
  },
  {
   "cell_type": "markdown",
   "source": [
    "##### Answer:\n",
    "\n",
    "$v_\\pi(s)=\\sum_{a\\in A} \\pi(a \\mid s) \\sum_{s^{\\prime}, r} p\\left(s^{\\prime}, r \\mid s, a\\right)\\left[r+\\gamma v_{\\pi}\\left(s^{\\prime}\\right)\\right] = \\sum_{a\\in A} \\pi(a \\mid s) [r+\\gamma v_{\\pi}\\left(s^{\\prime})\\right]$\n",
    "\n",
    "A = {buy stock 1, buy stock 2, buy stock 1 & 2}\n",
    "\n",
    "\n",
    "States: $s = b(i)$ and $s' = b(i-1)$"
   ],
   "metadata": {
    "collapsed": false,
    "pycharm": {
     "name": "#%% md\n"
    }
   }
  },
  {
   "cell_type": "markdown",
   "source": [
    "##### Answer:\n",
    "$v_{\\pi}(s)=\\sum_{a \\in A} \\pi(a \\mid s) \\sum_{s^{\\prime}, r} p\\left(s^{\\prime}, r \\mid s, a\\right)\\left[r+\\gamma v_{\\pi}\\left(s^{\\prime}\\right)\\right]=\\sum_{a \\in A} \\pi(a \\mid s)\\left[r+\\gamma v_{\\pi}\\left(s^{\\prime}\\right)\\right]$\n",
    "\n",
    "A = {buy stock 1, buy stock 2, buy stock 1 & 2}\n",
    "\n",
    "States: $s = b(i)$ and $s' = b(i-1)$"
   ],
   "metadata": {
    "collapsed": false,
    "pycharm": {
     "name": "#%% md\n"
    }
   }
  }
 ],
 "metadata": {
  "kernelspec": {
   "display_name": "Python 3",
   "language": "python",
   "name": "python3"
  },
  "language_info": {
   "codemirror_mode": {
    "name": "ipython",
    "version": 2
   },
   "file_extension": ".py",
   "mimetype": "text/x-python",
   "name": "python",
   "nbconvert_exporter": "python",
   "pygments_lexer": "ipython2",
   "version": "2.7.6"
  }
 },
 "nbformat": 4,
 "nbformat_minor": 0
}