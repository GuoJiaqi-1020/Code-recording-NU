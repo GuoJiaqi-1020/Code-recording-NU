{
 "cells": [
  {
   "cell_type": "markdown",
   "source": [
    "# Assignment 3\n",
    "Jiaqi Guo    JGR9647"
   ],
   "metadata": {
    "collapsed": false,
    "pycharm": {
     "name": "#%% md\n"
    }
   }
  },
  {
   "cell_type": "markdown",
   "source": [
    "### A Bandit Problem"
   ],
   "metadata": {
    "collapsed": false,
    "pycharm": {
     "name": "#%% md\n"
    }
   }
  },
  {
   "cell_type": "markdown",
   "source": [
    "##### Part 1\n",
    "Consider the following situation. You start with a thousand dollars to invest in two different stocks, **Apple** or **Microsoft**, for 100 days. At the beginning of each day, you must pick a stock to invest in. At the end of each day, you observe the return, and decide which stock to invest in the next day. You don’t know what the return will be the next day, but you know that the return (as a proportion) of **Apple** is normally distributed with $\\mu = 0.05$ and $\\sigma^2 = 0.1$. The return of **Microsoft** is normally distributed with $\\mu = 0.1$ and $\\sigma^2 = 0.3$\n",
    "\n",
    "Before doing any analyses, what do you expect to be the best strategy Would you prefer to invest in **Apple** or **Microsoft**? Or would you vary your investment based off of your balance? (There is no right answer here, and grading will only be based off of a thoughtful answer that makes a justification by addressing the probability distributions)"
   ],
   "metadata": {
    "collapsed": false,
    "pycharm": {
     "name": "#%% md\n"
    }
   }
  },
  {
   "cell_type": "markdown",
   "source": [
    "##### Answer:\n",
    "I would choose Microsoft for 100 days because it has a higher $\\mu$ value (higher expectation). And, in theory, we have a 57.2 percent chance of making a positive return with Microsoft stock, compared with 56.3 percent with Apple"
   ],
   "metadata": {
    "collapsed": false,
    "pycharm": {
     "name": "#%% md\n"
    }
   }
  },
  {
   "cell_type": "code",
   "execution_count": 220,
   "outputs": [
    {
     "name": "stdout",
     "output_type": "stream",
     "text": [
      "0.42756607029235294\n",
      "0.4371835305814459\n"
     ]
    }
   ],
   "source": [
    "import scipy.stats\n",
    "\n",
    "# Microsoft\n",
    "print(scipy.stats.norm.cdf(0,loc=0.1, scale=(0.3**0.5)))\n",
    "# Apple\n",
    "print(scipy.stats.norm.cdf(0,loc=0.05, scale=(0.1**0.5)))"
   ],
   "metadata": {
    "collapsed": false,
    "pycharm": {
     "name": "#%%\n"
    }
   }
  },
  {
   "cell_type": "markdown",
   "source": [],
   "metadata": {
    "collapsed": false,
    "pycharm": {
     "name": "#%% md\n"
    }
   }
  },
  {
   "cell_type": "markdown",
   "source": [
    "##### Part 2\n",
    "Using python or a language of your choice, write a program that simulates your strategy (a 100 day simulation starting with 1000 dollars). Repeat the simulation 100 times and report the mean and variance of your results."
   ],
   "metadata": {
    "collapsed": false,
    "pycharm": {
     "name": "#%% md\n"
    }
   }
  },
  {
   "cell_type": "code",
   "execution_count": 221,
   "outputs": [
    {
     "name": "stdout",
     "output_type": "stream",
     "text": [
      " The variance of 100 times simulation is: 11431664.111614484\n",
      " The mean of 100 times simulation is: 515.2354044508833\n"
     ]
    }
   ],
   "source": [
    "import numpy as np\n",
    "# np.random.seed(6)\n",
    "return_list = []\n",
    "company_choice = \"Microsoft\"\n",
    "\n",
    "def bandit_100_days(company:str, money: float)-> tuple:\n",
    "    if company =='Microsoft':\n",
    "        return money*max((1+np.random.normal(loc=0.1, scale=0.3**0.5)),0)\n",
    "    else:\n",
    "        return money*max((1+np.random.normal(loc=0.05, scale=0.1**0.5)),0)\n",
    "for _ in range(100):\n",
    "    money = 1000\n",
    "    for day in range(100):\n",
    "        money= bandit_100_days(company_choice, money)\n",
    "    return_list.append(money)\n",
    "\n",
    "print(f' The variance of 100 times simulation is: {np.var(return_list)}')\n",
    "print(f' The mean of 100 times simulation is: {np.mean(return_list)}')"
   ],
   "metadata": {
    "collapsed": false,
    "pycharm": {
     "name": "#%%\n"
    }
   }
  },
  {
   "cell_type": "markdown",
   "source": [
    "##### Part 3\n",
    "One approximation to the problem is known as the $exp3$ algorithm. It initially gives equal weights in deciding between both stocks, and based of results, re-weights the probability of choosing the next stock. An algorithm[1] is shown below, where you may set $\\gamma = 1, T = 100$ (the number of days) and $i = 1$ represents Apple and $i = 2$ represents Microsoft.\n",
    "\n",
    "Implement this algorithm for the problem, and report the final return of the algorithm. How does it compare to your result in Part 2?"
   ],
   "metadata": {
    "collapsed": false,
    "pycharm": {
     "name": "#%% md\n"
    }
   }
  },
  {
   "cell_type": "markdown",
   "source": [],
   "metadata": {
    "collapsed": false,
    "pycharm": {
     "name": "#%% md\n"
    }
   }
  },
  {
   "cell_type": "code",
   "execution_count": 222,
   "outputs": [
    {
     "name": "stdout",
     "output_type": "stream",
     "text": [
      " The variance of 100 times simulation is: 340749735.69408256\n",
      " The mean of 100 times simulation is: 4222.518001162962\n"
     ]
    }
   ],
   "source": [
    "import math\n",
    "\n",
    "reward_history = []\n",
    "\n",
    "def draw(weights):\n",
    "    choice = np.random.uniform(0, sum(weights))\n",
    "    choiceIndex = 0\n",
    "\n",
    "    for weight in weights:\n",
    "        choice -= weight\n",
    "        if choice <= 0:\n",
    "            return choiceIndex\n",
    "        choiceIndex += 1\n",
    "\n",
    "def distr(weights, gamma=0.0):\n",
    "    theSum = float(sum(weights))\n",
    "    return tuple((1.0 - gamma) * (w / theSum) + (gamma / len(weights)) for w in weights)\n",
    "\n",
    "def exp3(numActions, reward, gamma=1, rewardMin = 0, rewardMax = 1):\n",
    "   weights = [1.0] * numActions\n",
    "   t = 0\n",
    "   while True:\n",
    "      probabilityDistribution = distr(weights, gamma)\n",
    "      choice = draw(probabilityDistribution)\n",
    "\n",
    "      theReward = reward(choice, t)\n",
    "      scaledReward = (theReward - rewardMin) / (rewardMax - rewardMin)\n",
    "\n",
    "      estimatedReward = 1.0 * scaledReward / probabilityDistribution[choice]\n",
    "      weights[choice] *= math.exp(estimatedReward * gamma / numActions)\n",
    "\n",
    "      yield theReward\n",
    "      t = t + 1\n",
    "\n",
    "def one_round_invest():\n",
    "    t = 0\n",
    "    cumulativeReward = 1000\n",
    "    numActions = 2\n",
    "    numRounds = 100\n",
    "\n",
    "    rewardVector = [[max(np.random.normal(loc=0.1, scale=0.3**0.5),-1),max(np.random.normal(loc=0.05, scale=0.1**0.5),-1)] for _ in range(numRounds)]\n",
    "    rewards = lambda choice, t: rewardVector[t][choice]\n",
    "\n",
    "    for reward in exp3(numActions, rewards, rewardMin = max(np.array(rewardVector).flatten()), rewardMax = min(np.array(rewardVector).flatten())):\n",
    "        cumulativeReward *= (1+reward)\n",
    "        t += 1\n",
    "        if t >= numRounds:\n",
    "            break\n",
    "    return cumulativeReward\n",
    "\n",
    "for _ in range(100):\n",
    "    reward_history.append(one_round_invest())\n",
    "\n",
    "print(f' The variance of 100 times simulation is: {np.var(reward_history)}')\n",
    "print(f' The mean of 100 times simulation is: {np.mean(reward_history)}')"
   ],
   "metadata": {
    "collapsed": false,
    "pycharm": {
     "name": "#%%\n"
    }
   }
  },
  {
   "cell_type": "markdown",
   "source": [
    "##### Answer:\n",
    "Through the introduction of EXP3 algorithm, the average value of our results is usually higher, but there is also a larger variance"
   ],
   "metadata": {
    "collapsed": false,
    "pycharm": {
     "name": "#%% md\n"
    }
   }
  },
  {
   "cell_type": "markdown",
   "source": [
    "###  Implementing Value Iteration\n",
    "The diagram below represents a four period problem, where at each state (a box), you receive reward the number on the box. At each state, you must decide to move upwards or downwards to the next box"
   ],
   "metadata": {
    "collapsed": false,
    "pycharm": {
     "name": "#%% md\n"
    }
   }
  },
  {
   "cell_type": "markdown",
   "source": [
    "##### Part 1\n",
    "Consider the diagram above. What is the path(s) that maximizes your total reward (the sum of the values in the boxes)? In your notation, let U denote moving upwards and D denote moving downwards. Then the path U, U, U, D, for example gives reward r = 1 + 0 + 59 − 4 = 56."
   ],
   "metadata": {
    "collapsed": false,
    "pycharm": {
     "name": "#%% md\n"
    }
   }
  },
  {
   "cell_type": "markdown",
   "source": [
    "##### Answer:\n",
    "$r=0+(-1)+60+59$, which correspond to D, D, D, U."
   ],
   "metadata": {
    "collapsed": false,
    "pycharm": {
     "name": "#%% md\n"
    }
   }
  },
  {
   "cell_type": "markdown",
   "source": [
    "##### Part 2\n",
    "Implement the value iteration algorithm for the problem above (by writing a program) with no more than ten iterations, and report your result. Are you able to achieve the optimal path?"
   ],
   "metadata": {
    "collapsed": false,
    "pycharm": {
     "name": "#%% md\n"
    }
   }
  },
  {
   "cell_type": "code",
   "execution_count": 247,
   "outputs": [
    {
     "ename": "KeyboardInterrupt",
     "evalue": "",
     "output_type": "error",
     "traceback": [
      "\u001B[1;31m---------------------------------------------------------------------------\u001B[0m",
      "\u001B[1;31mKeyboardInterrupt\u001B[0m                         Traceback (most recent call last)",
      "\u001B[1;32m~\\AppData\\Local\\Temp/ipykernel_27932/1706009806.py\u001B[0m in \u001B[0;36m<module>\u001B[1;34m\u001B[0m\n\u001B[0;32m     36\u001B[0m \u001B[1;32mwhile\u001B[0m \u001B[1;32mTrue\u001B[0m\u001B[1;33m:\u001B[0m\u001B[1;33m\u001B[0m\u001B[1;33m\u001B[0m\u001B[0m\n\u001B[0;32m     37\u001B[0m     \u001B[0miter\u001B[0m\u001B[1;33m+=\u001B[0m\u001B[1;36m1\u001B[0m\u001B[1;33m\u001B[0m\u001B[1;33m\u001B[0m\u001B[0m\n\u001B[1;32m---> 38\u001B[1;33m     \u001B[0menv\u001B[0m\u001B[1;33m,\u001B[0m \u001B[0mconv\u001B[0m \u001B[1;33m=\u001B[0m \u001B[0mone_iter\u001B[0m\u001B[1;33m(\u001B[0m\u001B[0menv\u001B[0m\u001B[1;33m)\u001B[0m\u001B[1;33m\u001B[0m\u001B[1;33m\u001B[0m\u001B[0m\n\u001B[0m\u001B[0;32m     39\u001B[0m     \u001B[1;32mif\u001B[0m \u001B[0mconv\u001B[0m\u001B[1;33m:\u001B[0m\u001B[1;33m\u001B[0m\u001B[1;33m\u001B[0m\u001B[0m\n\u001B[0;32m     40\u001B[0m         \u001B[1;32mbreak\u001B[0m\u001B[1;33m\u001B[0m\u001B[1;33m\u001B[0m\u001B[0m\n",
      "\u001B[1;32m~\\AppData\\Local\\Temp/ipykernel_27932/1706009806.py\u001B[0m in \u001B[0;36m<module>\u001B[1;34m\u001B[0m\n\u001B[0;32m     36\u001B[0m \u001B[1;32mwhile\u001B[0m \u001B[1;32mTrue\u001B[0m\u001B[1;33m:\u001B[0m\u001B[1;33m\u001B[0m\u001B[1;33m\u001B[0m\u001B[0m\n\u001B[0;32m     37\u001B[0m     \u001B[0miter\u001B[0m\u001B[1;33m+=\u001B[0m\u001B[1;36m1\u001B[0m\u001B[1;33m\u001B[0m\u001B[1;33m\u001B[0m\u001B[0m\n\u001B[1;32m---> 38\u001B[1;33m     \u001B[0menv\u001B[0m\u001B[1;33m,\u001B[0m \u001B[0mconv\u001B[0m \u001B[1;33m=\u001B[0m \u001B[0mone_iter\u001B[0m\u001B[1;33m(\u001B[0m\u001B[0menv\u001B[0m\u001B[1;33m)\u001B[0m\u001B[1;33m\u001B[0m\u001B[1;33m\u001B[0m\u001B[0m\n\u001B[0m\u001B[0;32m     39\u001B[0m     \u001B[1;32mif\u001B[0m \u001B[0mconv\u001B[0m\u001B[1;33m:\u001B[0m\u001B[1;33m\u001B[0m\u001B[1;33m\u001B[0m\u001B[0m\n\u001B[0;32m     40\u001B[0m         \u001B[1;32mbreak\u001B[0m\u001B[1;33m\u001B[0m\u001B[1;33m\u001B[0m\u001B[0m\n",
      "\u001B[1;32m_pydevd_bundle\\pydevd_cython_win32_37_64.pyx\u001B[0m in \u001B[0;36m_pydevd_bundle.pydevd_cython_win32_37_64.SafeCallWrapper.__call__\u001B[1;34m()\u001B[0m\n",
      "\u001B[1;32m_pydevd_bundle\\pydevd_cython_win32_37_64.pyx\u001B[0m in \u001B[0;36m_pydevd_bundle.pydevd_cython_win32_37_64.PyDBFrame.trace_dispatch\u001B[1;34m()\u001B[0m\n",
      "\u001B[1;32m_pydevd_bundle\\pydevd_cython_win32_37_64.pyx\u001B[0m in \u001B[0;36m_pydevd_bundle.pydevd_cython_win32_37_64.PyDBFrame.trace_dispatch\u001B[1;34m()\u001B[0m\n",
      "\u001B[1;32m_pydevd_bundle\\pydevd_cython_win32_37_64.pyx\u001B[0m in \u001B[0;36m_pydevd_bundle.pydevd_cython_win32_37_64.PyDBFrame.trace_dispatch\u001B[1;34m()\u001B[0m\n",
      "\u001B[1;32m_pydevd_bundle\\pydevd_cython_win32_37_64.pyx\u001B[0m in \u001B[0;36m_pydevd_bundle.pydevd_cython_win32_37_64.PyDBFrame.do_wait_suspend\u001B[1;34m()\u001B[0m\n",
      "\u001B[1;32mC:\\Program Files\\JetBrains\\PyCharm 2021.3.2\\plugins\\python\\helpers\\pydev\\pydevd.py\u001B[0m in \u001B[0;36mdo_wait_suspend\u001B[1;34m(self, thread, frame, event, arg, send_suspend_message, is_unhandled_exception)\u001B[0m\n\u001B[0;32m   1153\u001B[0m \u001B[1;33m\u001B[0m\u001B[0m\n\u001B[0;32m   1154\u001B[0m         \u001B[1;32mwith\u001B[0m \u001B[0mself\u001B[0m\u001B[1;33m.\u001B[0m\u001B[0m_threads_suspended_single_notification\u001B[0m\u001B[1;33m.\u001B[0m\u001B[0mnotify_thread_suspended\u001B[0m\u001B[1;33m(\u001B[0m\u001B[0mthread_id\u001B[0m\u001B[1;33m,\u001B[0m \u001B[0mstop_reason\u001B[0m\u001B[1;33m)\u001B[0m\u001B[1;33m:\u001B[0m\u001B[1;33m\u001B[0m\u001B[1;33m\u001B[0m\u001B[0m\n\u001B[1;32m-> 1155\u001B[1;33m             \u001B[0mself\u001B[0m\u001B[1;33m.\u001B[0m\u001B[0m_do_wait_suspend\u001B[0m\u001B[1;33m(\u001B[0m\u001B[0mthread\u001B[0m\u001B[1;33m,\u001B[0m \u001B[0mframe\u001B[0m\u001B[1;33m,\u001B[0m \u001B[0mevent\u001B[0m\u001B[1;33m,\u001B[0m \u001B[0marg\u001B[0m\u001B[1;33m,\u001B[0m \u001B[0msuspend_type\u001B[0m\u001B[1;33m,\u001B[0m \u001B[0mfrom_this_thread\u001B[0m\u001B[1;33m)\u001B[0m\u001B[1;33m\u001B[0m\u001B[1;33m\u001B[0m\u001B[0m\n\u001B[0m\u001B[0;32m   1156\u001B[0m \u001B[1;33m\u001B[0m\u001B[0m\n\u001B[0;32m   1157\u001B[0m     \u001B[1;32mdef\u001B[0m \u001B[0m_do_wait_suspend\u001B[0m\u001B[1;33m(\u001B[0m\u001B[0mself\u001B[0m\u001B[1;33m,\u001B[0m \u001B[0mthread\u001B[0m\u001B[1;33m,\u001B[0m \u001B[0mframe\u001B[0m\u001B[1;33m,\u001B[0m \u001B[0mevent\u001B[0m\u001B[1;33m,\u001B[0m \u001B[0marg\u001B[0m\u001B[1;33m,\u001B[0m \u001B[0msuspend_type\u001B[0m\u001B[1;33m,\u001B[0m \u001B[0mfrom_this_thread\u001B[0m\u001B[1;33m)\u001B[0m\u001B[1;33m:\u001B[0m\u001B[1;33m\u001B[0m\u001B[1;33m\u001B[0m\u001B[0m\n",
      "\u001B[1;32mC:\\Program Files\\JetBrains\\PyCharm 2021.3.2\\plugins\\python\\helpers\\pydev\\pydevd.py\u001B[0m in \u001B[0;36m_do_wait_suspend\u001B[1;34m(self, thread, frame, event, arg, suspend_type, from_this_thread)\u001B[0m\n\u001B[0;32m   1168\u001B[0m \u001B[1;33m\u001B[0m\u001B[0m\n\u001B[0;32m   1169\u001B[0m                 \u001B[0mself\u001B[0m\u001B[1;33m.\u001B[0m\u001B[0mprocess_internal_commands\u001B[0m\u001B[1;33m(\u001B[0m\u001B[1;33m)\u001B[0m\u001B[1;33m\u001B[0m\u001B[1;33m\u001B[0m\u001B[0m\n\u001B[1;32m-> 1170\u001B[1;33m                 \u001B[0mtime\u001B[0m\u001B[1;33m.\u001B[0m\u001B[0msleep\u001B[0m\u001B[1;33m(\u001B[0m\u001B[1;36m0.01\u001B[0m\u001B[1;33m)\u001B[0m\u001B[1;33m\u001B[0m\u001B[1;33m\u001B[0m\u001B[0m\n\u001B[0m\u001B[0;32m   1171\u001B[0m \u001B[1;33m\u001B[0m\u001B[0m\n\u001B[0;32m   1172\u001B[0m         \u001B[0mself\u001B[0m\u001B[1;33m.\u001B[0m\u001B[0mcancel_async_evaluation\u001B[0m\u001B[1;33m(\u001B[0m\u001B[0mget_current_thread_id\u001B[0m\u001B[1;33m(\u001B[0m\u001B[0mthread\u001B[0m\u001B[1;33m)\u001B[0m\u001B[1;33m,\u001B[0m \u001B[0mstr\u001B[0m\u001B[1;33m(\u001B[0m\u001B[0mid\u001B[0m\u001B[1;33m(\u001B[0m\u001B[0mframe\u001B[0m\u001B[1;33m)\u001B[0m\u001B[1;33m)\u001B[0m\u001B[1;33m)\u001B[0m\u001B[1;33m\u001B[0m\u001B[1;33m\u001B[0m\u001B[0m\n",
      "\u001B[1;31mKeyboardInterrupt\u001B[0m: "
     ]
    }
   ],
   "source": [
    "env={1:[1,0],2:[0,3,2,-1],3:[59,36,30,40,60],4:[30,-4,59,30,59,29]}\n",
    "\n",
    "def next_best_action(env, period:int, idx:int):\n",
    "    next_state = []\n",
    "    if period == 1:\n",
    "        for act1 in range(1,3):\n",
    "            next_state.append(env[period+1][2*(idx+1)-act1])\n",
    "    else:\n",
    "        for act2 in range(2):\n",
    "            next_state.append(env[period+1][(idx+1)-act2])\n",
    "    return max(next_state), np.argmax(next_state) # 0 down   1 up\n",
    "\n",
    "\n",
    "def one_iter(env):\n",
    "    converge = False\n",
    "    current_state = []\n",
    "    updated_state = []\n",
    "    for i in range(1,5):\n",
    "        current_state +=env[i]\n",
    "\n",
    "    for i in range(3):\n",
    "        period = i+1\n",
    "        for idx in range(len(env[period])):\n",
    "            env[period][idx]+=next_best_action(env,period,idx)[0]\n",
    "\n",
    "\n",
    "    for i in range(1,5):\n",
    "        updated_state +=env[i]\n",
    "\n",
    "    loss = np.sum(np.fabs(np.array(current_state)-np.array(updated_state)))\n",
    "    if np.sum(np.fabs(np.array(current_state)-np.array(updated_state)))<=1:\n",
    "        converge = True\n",
    "    return env, converge\n",
    "\n",
    "iter = 0\n",
    "while True:\n",
    "    iter+=1\n",
    "    env, conv = one_iter(env)\n",
    "    if conv:\n",
    "        break\n",
    "        print(f'converge at {iter}')\n",
    "print(env)"
   ],
   "metadata": {
    "collapsed": false,
    "pycharm": {
     "name": "#%%\n"
    }
   }
  },
  {
   "cell_type": "markdown",
   "source": [
    "##### Answer:\n"
   ],
   "metadata": {
    "collapsed": false,
    "pycharm": {
     "name": "#%% md\n"
    }
   }
  }
 ],
 "metadata": {
  "kernelspec": {
   "display_name": "Python 3",
   "language": "python",
   "name": "python3"
  },
  "language_info": {
   "codemirror_mode": {
    "name": "ipython",
    "version": 2
   },
   "file_extension": ".py",
   "mimetype": "text/x-python",
   "name": "python",
   "nbconvert_exporter": "python",
   "pygments_lexer": "ipython2",
   "version": "2.7.6"
  }
 },
 "nbformat": 4,
 "nbformat_minor": 0
}