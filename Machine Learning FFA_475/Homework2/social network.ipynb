{
 "cells": [
  {
   "cell_type": "code",
   "execution_count": 6,
   "outputs": [],
   "source": [
    "import sys\n",
    "from tqdm import trange\n",
    "import autograd.numpy as np\n",
    "import autograd\n",
    "from mlrefined_libraries.math_optimization_library import static_plotter\n",
    "import matplotlib.pyplot as plt"
   ],
   "metadata": {
    "collapsed": false,
    "pycharm": {
     "name": "#%%\n"
    }
   }
  },
  {
   "cell_type": "code",
   "execution_count": 7,
   "outputs": [],
   "source": [
    "plotter = static_plotter.Visualizer()\n",
    "sys.path.append('../')"
   ],
   "metadata": {
    "collapsed": false,
    "pycharm": {
     "name": "#%%\n"
    }
   }
  },
  {
   "cell_type": "code",
   "execution_count": 8,
   "outputs": [],
   "source": [
    "class Linear_regression(object):\n",
    "    def __init__(self, data_set):\n",
    "        self.x = data_set[:,1:-1].T\n",
    "        self.y = data_set[:,-1:].T\n",
    "        self.w0 = self.decent_initializer()\n",
    "        self.data_initialization(data_set)\n",
    "\n",
    "    def data_initialization(self, data_set):\n",
    "        # The whole data processing piplne\n",
    "        x_mean = np.nanmean(self.x, axis=1)\n",
    "        x = self.data_recovery(self.x, x_mean)\n",
    "        self.deviation_regulartor()\n",
    "        self.x_mean = x.mean(axis=1)[:, np.newaxis]\n",
    "        self.data_normalization(x)\n",
    "\n",
    "    def data_normalization(self, x):\n",
    "        # Generate the normalization function\n",
    "        normalize = lambda x: (x - self.x_mean) / self.x_std\n",
    "        self.x = normalize(x)\n",
    "        return normalize\n",
    "\n",
    "    def deviation_regulartor(self):\n",
    "        self.x_std = self.x.std(axis=1)[:, np.newaxis]\n",
    "        regulator = np.zeros(self.x_std.shape)\n",
    "        for i in range(len(self.x_std)):\n",
    "            if self.x_std[i] <= 0.1:\n",
    "                regulator[i] = 1.0\n",
    "                self.x_std += regulator\n",
    "            else:\n",
    "                pass\n",
    "\n",
    "    def decent_initializer(self):\n",
    "        w = 0.1 * np.random.randn(self.x.shape[0] + 1, 1)\n",
    "        return w\n",
    "\n",
    "    @staticmethod\n",
    "    def data_recovery(x, mean):\n",
    "        \"\"\"\n",
    "        To replace the NAN data in the dataset with the corresponding mean value\n",
    "        :return: The restored data set x\n",
    "\n",
    "        \"\"\"\n",
    "        for i in np.argwhere(np.isnan(x) == True):\n",
    "            x[i[0], i[1]] = mean[i[0]]\n",
    "        return x\n",
    "\n",
    "    def linear_model(self, w):\n",
    "        a = w[0] + np.dot(self.x.T, w[1:])\n",
    "        return a.T\n",
    "\n",
    "    def least_squares_mean(self, w):\n",
    "        cost = np.sum((self.linear_model(w) - self.y) ** 2)\n",
    "        return cost / float(np.size(self.y))\n",
    "\n",
    "    def least_absolute_deviations(self, w):\n",
    "        cost = np.sum(np.abs(self.linear_model(w) - self.y))\n",
    "\n",
    "        return cost / float(np.size(self.y))\n",
    "\n",
    "    def gradient_decent(self, Loss_function, study_rate, iteration):\n",
    "        \"\"\"\n",
    "        Gradient decent to minimize the cost function\n",
    "        \"\"\"\n",
    "        if Loss_function == 'LSM':\n",
    "            Loss_fun = self.least_squares_mean\n",
    "        elif Loss_function == 'LAD':\n",
    "            Loss_fun = self.least_absolute_deviations\n",
    "        else:\n",
    "            raise Exception(\"Error Function Name\")\n",
    "        w = self.w0\n",
    "        Gradient = autograd.grad(Loss_fun)\n",
    "        weight_history = [w]\n",
    "        cost_history = [Loss_fun(w)]\n",
    "        for k in trange(1, iteration + 1):\n",
    "            study_rate=study_rate*0.99\n",
    "            grad_decent = Gradient(w)\n",
    "            w = w - study_rate * grad_decent\n",
    "            weight_history.append(w)\n",
    "            cost_history.append(Loss_fun(w))\n",
    "        if Loss_function == \"LSM\":\n",
    "            cost_history = [cost ** 0.5 for cost in cost_history]\n",
    "        return weight_history, cost_history, w\n",
    "\n",
    "\n",
    "    def linear_fitting_plot(self,w):\n",
    "        \"\"\"\n",
    "        plot the scatter plot with the linear fitting line\n",
    "        \"\"\"\n",
    "        x=self.x\n",
    "        y=self.y\n",
    "        x_axis = np.linspace(np.min(x), np.max(x))\n",
    "        y_axis = w[0] + w[1] * x_axis\n",
    "\n",
    "        plt.title('Linear Fit for Discrete Data Points')\n",
    "        plt.xlabel('$log_{(mass)}\\ (Kg)$')\n",
    "        plt.ylabel('$log_{(metabolic rate)}\\ (J)$')\n",
    "        plt.plot(x_axis, y_axis, color='r')\n",
    "        plt.scatter(x, y, color='b', edgecolor='w')\n",
    "        plt.show()\n"
   ],
   "metadata": {
    "collapsed": false,
    "pycharm": {
     "name": "#%%\n"
    }
   }
  },
  {
   "cell_type": "code",
   "execution_count": 9,
   "outputs": [
    {
     "name": "stderr",
     "output_type": "stream",
     "text": [
      "100%|██████████| 500/500 [00:27<00:00, 18.50it/s]\n"
     ]
    },
    {
     "data": {
      "text/plain": "<Figure size 720x216 with 1 Axes>",
      "image/png": "[encoded data removed]"
     },
     "metadata": {
      "needs_background": "light"
     },
     "output_type": "display_data"
    },
    {
     "name": "stdout",
     "output_type": "stream",
     "text": [
      "[[ 3.70658218]\n",
      " [-0.35590948]\n",
      " [ 0.07752402]]\n"
     ]
    }
   ],
   "source": [
    "    begin_point = 0\n",
    "    data_bh = np.loadtxt('../Homework2/attr.csv', delimiter=',')\n",
    "    BH = Linear_regression(data_bh)\n",
    "\n",
    "    weight_history_BH_LSM, cost_history_BH_LSM, w = BH.gradient_decent('LSM', study_rate=0.05,\n",
    "                                                                    iteration=500)\n",
    "\n",
    "    plotter.plot_cost_histories(histories=[cost_history_BH_LSM], start=begin_point,\n",
    "                                labels=['$ RMSE $', '$ MAD $'],\n",
    "                                title=\"Boston Housing: Cost History of 1000 Iterations\")\n",
    "    print(w)\n",
    "# DVD 3   BOOK 1 Music 2 video 4"
   ],
   "metadata": {
    "collapsed": false,
    "pycharm": {
     "name": "#%%\n"
    }
   }
  },
  {
   "cell_type": "code",
   "execution_count": 9,
   "outputs": [],
   "source": [],
   "metadata": {
    "collapsed": false,
    "pycharm": {
     "name": "#%%\n"
    }
   }
  }
 ],
 "metadata": {
  "kernelspec": {
   "display_name": "Python 3",
   "language": "python",
   "name": "python3"
  },
  "language_info": {
   "codemirror_mode": {
    "name": "ipython",
    "version": 2
   },
   "file_extension": ".py",
   "mimetype": "text/x-python",
   "name": "python",
   "nbconvert_exporter": "python",
   "pygments_lexer": "ipython2",
   "version": "2.7.6"
  }
 },
 "nbformat": 4,
 "nbformat_minor": 0
}